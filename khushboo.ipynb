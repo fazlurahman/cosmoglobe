{
 "cells": [
  {
   "cell_type": "code",
   "execution_count": 1,
   "id": "41484778",
   "metadata": {
    "ExecuteTime": {
     "end_time": "2022-02-11T08:28:41.650469Z",
     "start_time": "2022-02-11T08:28:41.302709Z"
    }
   },
   "outputs": [],
   "source": [
    "import numpy as np\n",
    "import matplotlib.pyplot as plt\n"
   ]
  },
  {
   "cell_type": "code",
   "execution_count": 4,
   "id": "a1adbd11",
   "metadata": {
    "ExecuteTime": {
     "end_time": "2022-02-11T08:29:21.210162Z",
     "start_time": "2022-02-11T08:29:21.041644Z"
    }
   },
   "outputs": [
    {
     "data": {
      "text/plain": [
       "<ErrorbarContainer object of 3 artists>"
      ]
     },
     "execution_count": 4,
     "metadata": {},
     "output_type": "execute_result"
    },
    {
     "data": {
      "image/png": "[encoded data removed]",
      "text/plain": [
       "<Figure size 432x288 with 1 Axes>"
      ]
     },
     "metadata": {},
     "output_type": "display_data"
    }
   ],
   "source": [
    "Hz = np.array([69.0 ,69.0,68.6,83.0,75.0,75.0 ,72.9,79.69,77.0,88.8,84.4,83.0,83.0,95.0,77.0,87.1,86.45,82.6,92.8,89,80.9 ,97.0,92.4,104.0,87.9,92.0,97.3,105.0,125.0,90.0,117.0,154.0,168.0,160.0,177.0,140.0,202.0,186.5,222.0,226.0])\n",
    "Hz_error = np.array([19.68, 12.0, 26.2,8.0,4.0,5.0,29.6, 2.65,14.0,36.6,7.0,14.0,13.5,17.0,10.2, 11.2, 3.68,7.8,12.9,50,9,62.0,4.5,13.0,6.1,8.0,7.0,12.0,17.0,40.0,13.0,20.0,17.0,33.6,18.0,14.0,40.0,50.4,7.0,8.0])\n",
    "z = np.array([0.0708,0.09,0.12,0.17,0.179,0.199,0.2,0.240,0.27,0.28,0.35,0.352,0.3802,0.4,0.4004,0.4247,0.43,0.44,0.4497,0.47,0.4783,0.48,0.57,0.593,0.6,0.68,0.73,0.781,0.875,0.88,0.9,1.037,1.3,1.363,1.43,1.53,1.75,1.965,2.34,2.36])\n",
    "plt.figure(facecolor='white')\n",
    "plt.plot(z,Hz,'o',c='r')\n",
    "plt.errorbar(z,Hz,Hz_error,fmt='o', ecolor='black', markersize='0.01', capsize= 1.5)"
   ]
  },
  {
   "cell_type": "code",
   "execution_count": 35,
   "id": "0af3cfd6",
   "metadata": {
    "ExecuteTime": {
     "end_time": "2022-02-11T11:39:27.923365Z",
     "start_time": "2022-02-11T11:39:27.913437Z"
    }
   },
   "outputs": [],
   "source": [
    "def model(theta):\n",
    "    H0= theta\n",
    "    om=0.1\n",
    "    odm=0.9\n",
    "    model = (((1+z)**3)*om + odm)**0.5\n",
    "    if model<=0 :\n",
    "        return 1e8\n",
    "    return H0*(model)\n"
   ]
  },
  {
   "cell_type": "code",
   "execution_count": 36,
   "id": "804280de",
   "metadata": {
    "ExecuteTime": {
     "end_time": "2022-02-11T11:39:29.579121Z",
     "start_time": "2022-02-11T11:39:29.559995Z"
    }
   },
   "outputs": [
    {
     "ename": "ValueError",
     "evalue": "The truth value of an array with more than one element is ambiguous. Use a.any() or a.all()",
     "output_type": "error",
     "traceback": [
      "\u001b[0;31m---------------------------------------------------------------------------\u001b[0m",
      "\u001b[0;31mValueError\u001b[0m                                Traceback (most recent call last)",
      "\u001b[0;32m<ipython-input-36-ff75132945c9>\u001b[0m in \u001b[0;36m<module>\u001b[0;34m\u001b[0m\n\u001b[1;32m      1\u001b[0m \u001b[0mtheta\u001b[0m\u001b[0;34m=\u001b[0m\u001b[0;36m10\u001b[0m\u001b[0;34m\u001b[0m\u001b[0;34m\u001b[0m\u001b[0m\n\u001b[0;32m----> 2\u001b[0;31m \u001b[0mmodel\u001b[0m\u001b[0;34m(\u001b[0m\u001b[0mtheta\u001b[0m\u001b[0;34m)\u001b[0m\u001b[0;34m\u001b[0m\u001b[0;34m\u001b[0m\u001b[0m\n\u001b[0m",
      "\u001b[0;32m<ipython-input-35-ae11d16ff3a9>\u001b[0m in \u001b[0;36mmodel\u001b[0;34m(theta)\u001b[0m\n\u001b[1;32m      4\u001b[0m     \u001b[0modm\u001b[0m\u001b[0;34m=\u001b[0m\u001b[0;36m0.9\u001b[0m\u001b[0;34m\u001b[0m\u001b[0;34m\u001b[0m\u001b[0m\n\u001b[1;32m      5\u001b[0m     \u001b[0mmodel\u001b[0m \u001b[0;34m=\u001b[0m \u001b[0;34m(\u001b[0m\u001b[0;34m(\u001b[0m\u001b[0;34m(\u001b[0m\u001b[0;36m1\u001b[0m\u001b[0;34m+\u001b[0m\u001b[0mz\u001b[0m\u001b[0;34m)\u001b[0m\u001b[0;34m**\u001b[0m\u001b[0;36m3\u001b[0m\u001b[0;34m)\u001b[0m\u001b[0;34m*\u001b[0m\u001b[0mom\u001b[0m \u001b[0;34m+\u001b[0m \u001b[0modm\u001b[0m\u001b[0;34m)\u001b[0m\u001b[0;34m**\u001b[0m\u001b[0;36m0.5\u001b[0m\u001b[0;34m\u001b[0m\u001b[0;34m\u001b[0m\u001b[0m\n\u001b[0;32m----> 6\u001b[0;31m     \u001b[0;32mif\u001b[0m \u001b[0mmodel\u001b[0m\u001b[0;34m<=\u001b[0m\u001b[0;36m0\u001b[0m \u001b[0;34m:\u001b[0m\u001b[0;34m\u001b[0m\u001b[0;34m\u001b[0m\u001b[0m\n\u001b[0m\u001b[1;32m      7\u001b[0m         \u001b[0;32mreturn\u001b[0m \u001b[0;36m1e8\u001b[0m\u001b[0;34m\u001b[0m\u001b[0;34m\u001b[0m\u001b[0m\n\u001b[1;32m      8\u001b[0m     \u001b[0;32mreturn\u001b[0m \u001b[0mH0\u001b[0m\u001b[0;34m*\u001b[0m\u001b[0;34m(\u001b[0m\u001b[0mmodel\u001b[0m\u001b[0;34m)\u001b[0m\u001b[0;34m\u001b[0m\u001b[0;34m\u001b[0m\u001b[0m\n",
      "\u001b[0;31mValueError\u001b[0m: The truth value of an array with more than one element is ambiguous. Use a.any() or a.all()"
     ]
    }
   ],
   "source": [
    "theta=10\n",
    "model(theta)"
   ]
  },
  {
   "cell_type": "code",
   "execution_count": 14,
   "id": "27a7c3e8",
   "metadata": {
    "ExecuteTime": {
     "end_time": "2022-02-11T08:47:53.729561Z",
     "start_time": "2022-02-11T08:47:53.726166Z"
    }
   },
   "outputs": [],
   "source": [
    "def lnlike(theta, z,Hz,Hz_error):\n",
    "    H=model(theta)\n",
    "    chi_square = (-0.5*(((Hz-H))/(Hz_error))**2).sum()\n",
    "    return(chi_square)"
   ]
  },
  {
   "cell_type": "code",
   "execution_count": 16,
   "id": "b42e194e",
   "metadata": {
    "ExecuteTime": {
     "end_time": "2022-02-11T08:48:38.131461Z",
     "start_time": "2022-02-11T08:48:38.127007Z"
    }
   },
   "outputs": [],
   "source": [
    "def lnprior(theta):\n",
    "    H0,om,odm = theta\n",
    "    if 60 < H0 < 80 and 0 <om<0.3 and 0.6 < odm < 0.9 :\n",
    "        return 0.0\n",
    "    return -np.inf"
   ]
  },
  {
   "cell_type": "code",
   "execution_count": 17,
   "id": "86f2131d",
   "metadata": {
    "ExecuteTime": {
     "end_time": "2022-02-11T08:49:25.462263Z",
     "start_time": "2022-02-11T08:49:25.454547Z"
    }
   },
   "outputs": [
    {
     "ename": "NameError",
     "evalue": "name 'theta' is not defined",
     "output_type": "error",
     "traceback": [
      "\u001b[0;31m---------------------------------------------------------------------------\u001b[0m",
      "\u001b[0;31mNameError\u001b[0m                                 Traceback (most recent call last)",
      "\u001b[0;32m<ipython-input-17-3e9899b47944>\u001b[0m in \u001b[0;36m<module>\u001b[0;34m\u001b[0m\n\u001b[1;32m      4\u001b[0m         \u001b[0;32mreturn\u001b[0m \u001b[0;34m-\u001b[0m\u001b[0mnp\u001b[0m\u001b[0;34m.\u001b[0m\u001b[0minf\u001b[0m\u001b[0;34m\u001b[0m\u001b[0;34m\u001b[0m\u001b[0m\n\u001b[1;32m      5\u001b[0m     \u001b[0;32mreturn\u001b[0m \u001b[0mlp\u001b[0m \u001b[0;34m+\u001b[0m \u001b[0mlnlike\u001b[0m\u001b[0;34m(\u001b[0m\u001b[0mtheta\u001b[0m\u001b[0;34m,\u001b[0m \u001b[0mz\u001b[0m\u001b[0;34m,\u001b[0m \u001b[0mHz\u001b[0m\u001b[0;34m,\u001b[0m \u001b[0mHz_error\u001b[0m\u001b[0;34m)\u001b[0m\u001b[0;34m\u001b[0m\u001b[0;34m\u001b[0m\u001b[0m\n\u001b[0;32m----> 6\u001b[0;31m \u001b[0mlnprob\u001b[0m\u001b[0;34m=\u001b[0m\u001b[0mlnprob\u001b[0m\u001b[0;34m(\u001b[0m\u001b[0mtheta\u001b[0m\u001b[0;34m,\u001b[0m\u001b[0mz\u001b[0m\u001b[0;34m,\u001b[0m\u001b[0mHz\u001b[0m\u001b[0;34m,\u001b[0m\u001b[0mHz_error\u001b[0m\u001b[0;34m)\u001b[0m\u001b[0;34m\u001b[0m\u001b[0;34m\u001b[0m\u001b[0m\n\u001b[0m",
      "\u001b[0;31mNameError\u001b[0m: name 'theta' is not defined"
     ]
    }
   ],
   "source": [
    "def lnprob(theta, z, Hz, Hz_error):\n",
    "    lp = lnprior(theta)\n",
    "    if not np.isfinite(lp):\n",
    "        return -np.inf\n",
    "    return lp + lnlike(theta, z, Hz, Hz_error)\n"
   ]
  },
  {
   "cell_type": "code",
   "execution_count": 29,
   "id": "6e18ec72",
   "metadata": {
    "ExecuteTime": {
     "end_time": "2022-02-11T09:15:13.817866Z",
     "start_time": "2022-02-11T09:15:13.793110Z"
    }
   },
   "outputs": [
    {
     "ename": "ValueError",
     "evalue": "The truth value of an array with more than one element is ambiguous. Use a.any() or a.all()",
     "output_type": "error",
     "traceback": [
      "\u001b[0;31m---------------------------------------------------------------------------\u001b[0m",
      "\u001b[0;31mValueError\u001b[0m                                Traceback (most recent call last)",
      "\u001b[0;32m<ipython-input-29-0ccd425d2661>\u001b[0m in \u001b[0;36m<module>\u001b[0;34m\u001b[0m\n\u001b[0;32m----> 1\u001b[0;31m \u001b[0mmd\u001b[0m\u001b[0;34m=\u001b[0m\u001b[0mmodel\u001b[0m\u001b[0;34m(\u001b[0m\u001b[0mtheta\u001b[0m\u001b[0;34m)\u001b[0m\u001b[0;34m\u001b[0m\u001b[0;34m\u001b[0m\u001b[0m\n\u001b[0m",
      "\u001b[0;32m<ipython-input-28-9a9587467aa4>\u001b[0m in \u001b[0;36mmodel\u001b[0;34m(theta)\u001b[0m\n\u001b[1;32m      2\u001b[0m     \u001b[0mH0\u001b[0m\u001b[0;34m,\u001b[0m\u001b[0mom\u001b[0m\u001b[0;34m,\u001b[0m\u001b[0modm\u001b[0m \u001b[0;34m=\u001b[0m \u001b[0mtheta\u001b[0m\u001b[0;34m[\u001b[0m\u001b[0;36m0\u001b[0m\u001b[0;34m]\u001b[0m\u001b[0;34m,\u001b[0m\u001b[0mtheta\u001b[0m\u001b[0;34m[\u001b[0m\u001b[0;36m1\u001b[0m\u001b[0;34m]\u001b[0m\u001b[0;34m,\u001b[0m\u001b[0mtheta\u001b[0m\u001b[0;34m[\u001b[0m\u001b[0;36m2\u001b[0m\u001b[0;34m]\u001b[0m\u001b[0;34m\u001b[0m\u001b[0;34m\u001b[0m\u001b[0m\n\u001b[1;32m      3\u001b[0m     \u001b[0mmodel\u001b[0m \u001b[0;34m=\u001b[0m \u001b[0;34m(\u001b[0m\u001b[0;34m(\u001b[0m\u001b[0;34m(\u001b[0m\u001b[0;36m1\u001b[0m\u001b[0;34m+\u001b[0m\u001b[0mz\u001b[0m\u001b[0;34m)\u001b[0m\u001b[0;34m**\u001b[0m\u001b[0;36m3\u001b[0m\u001b[0;34m)\u001b[0m\u001b[0;34m*\u001b[0m\u001b[0mom\u001b[0m \u001b[0;34m+\u001b[0m \u001b[0modm\u001b[0m\u001b[0;34m)\u001b[0m\u001b[0;34m**\u001b[0m\u001b[0;36m0.5\u001b[0m\u001b[0;34m\u001b[0m\u001b[0;34m\u001b[0m\u001b[0m\n\u001b[0;32m----> 4\u001b[0;31m     \u001b[0;32mif\u001b[0m \u001b[0mmodel\u001b[0m\u001b[0;34m<=\u001b[0m\u001b[0;36m0\u001b[0m \u001b[0;34m:\u001b[0m\u001b[0;34m\u001b[0m\u001b[0;34m\u001b[0m\u001b[0m\n\u001b[0m\u001b[1;32m      5\u001b[0m         \u001b[0;32mreturn\u001b[0m \u001b[0;36m1e8\u001b[0m\u001b[0;34m\u001b[0m\u001b[0;34m\u001b[0m\u001b[0m\n\u001b[1;32m      6\u001b[0m     \u001b[0;32mreturn\u001b[0m \u001b[0mH0\u001b[0m\u001b[0;34m*\u001b[0m\u001b[0;34m(\u001b[0m\u001b[0mmodel\u001b[0m\u001b[0;34m)\u001b[0m\u001b[0;34m\u001b[0m\u001b[0;34m\u001b[0m\u001b[0m\n",
      "\u001b[0;31mValueError\u001b[0m: The truth value of an array with more than one element is ambiguous. Use a.any() or a.all()"
     ]
    }
   ],
   "source": [
    "md=model(theta)"
   ]
  },
  {
   "cell_type": "code",
   "execution_count": 10,
   "id": "e63f315b",
   "metadata": {
    "ExecuteTime": {
     "end_time": "2022-02-11T08:39:03.659925Z",
     "start_time": "2022-02-11T08:39:03.646029Z"
    }
   },
   "outputs": [],
   "source": [
    "data = (z, Hz,Hz_error)\n",
    "nwalkers=250\n",
    "niter=300\n",
    "initial = np.array([1.0, 1.0, 1.0, 26000., 41000.,100000.,-4.5])\n",
    "ndim = len(initial)\n",
    "p0 = [np.array(initial) + 1e-7 * np.random.randn(ndim) for i in range(nwalkers)]\n"
   ]
  },
  {
   "cell_type": "code",
   "execution_count": 11,
   "id": "b6b7b52d",
   "metadata": {
    "ExecuteTime": {
     "end_time": "2022-02-11T08:39:27.903429Z",
     "start_time": "2022-02-11T08:39:27.892985Z"
    }
   },
   "outputs": [],
   "source": [
    "def main(p0,nwalkers,niter,ndim,lnprob,data):\n",
    "    sampler = emcee.EnsembleSampler(nwalkers, ndim, lnprob, args=data)\n",
    "\n",
    "    print(\"Running burn-in...\")\n",
    "    p0, _, _ = sampler.run_mcmc(p0, 100)\n",
    "    sampler.reset()\n",
    "\n",
    "    print(\"Running production...\")\n",
    "    pos, prob, state = sampler.run_mcmc(p0, niter)\n",
    "\n",
    "    return sampler, pos, prob, state"
   ]
  },
  {
   "cell_type": "code",
   "execution_count": 12,
   "id": "8840fca4",
   "metadata": {
    "ExecuteTime": {
     "end_time": "2022-02-11T08:39:42.210836Z",
     "start_time": "2022-02-11T08:39:42.199302Z"
    }
   },
   "outputs": [
    {
     "ename": "NameError",
     "evalue": "name 'lnprob' is not defined",
     "output_type": "error",
     "traceback": [
      "\u001b[0;31m---------------------------------------------------------------------------\u001b[0m",
      "\u001b[0;31mNameError\u001b[0m                                 Traceback (most recent call last)",
      "\u001b[0;32m<ipython-input-12-abd92186f340>\u001b[0m in \u001b[0;36m<module>\u001b[0;34m\u001b[0m\n\u001b[0;32m----> 1\u001b[0;31m \u001b[0msampler\u001b[0m\u001b[0;34m,\u001b[0m \u001b[0mpos\u001b[0m\u001b[0;34m,\u001b[0m \u001b[0mprob\u001b[0m\u001b[0;34m,\u001b[0m \u001b[0mstate\u001b[0m \u001b[0;34m=\u001b[0m \u001b[0mmain\u001b[0m\u001b[0;34m(\u001b[0m\u001b[0mp0\u001b[0m\u001b[0;34m,\u001b[0m\u001b[0mnwalkers\u001b[0m\u001b[0;34m,\u001b[0m\u001b[0mniter\u001b[0m\u001b[0;34m,\u001b[0m\u001b[0mndim\u001b[0m\u001b[0;34m,\u001b[0m\u001b[0mlnprob\u001b[0m\u001b[0;34m,\u001b[0m\u001b[0mdata\u001b[0m\u001b[0;34m)\u001b[0m\u001b[0;34m\u001b[0m\u001b[0;34m\u001b[0m\u001b[0m\n\u001b[0m",
      "\u001b[0;31mNameError\u001b[0m: name 'lnprob' is not defined"
     ]
    }
   ],
   "source": [
    "sampler, pos, prob, state = main(p0,nwalkers,niter,ndim,lnprob,data)\n"
   ]
  },
  {
   "cell_type": "code",
   "execution_count": null,
   "id": "78900bc6",
   "metadata": {},
   "outputs": [],
   "source": []
  }
 ],
 "metadata": {
  "kernelspec": {
   "display_name": "Python 3",
   "language": "python",
   "name": "python3"
  },
  "language_info": {
   "codemirror_mode": {
    "name": "ipython",
    "version": 3
   },
   "file_extension": ".py",
   "mimetype": "text/x-python",
   "name": "python",
   "nbconvert_exporter": "python",
   "pygments_lexer": "ipython3",
   "version": "3.8.10"
  }
 },
 "nbformat": 4,
 "nbformat_minor": 5
}
